{
  "nbformat": 4,
  "nbformat_minor": 0,
  "metadata": {
    "colab": {
      "provenance": [],
      "authorship_tag": "ABX9TyMQcDSHtxImy71af3n0czw1",
      "include_colab_link": true
    },
    "kernelspec": {
      "name": "python3",
      "display_name": "Python 3"
    },
    "language_info": {
      "name": "python"
    }
  },
  "cells": [
    {
      "cell_type": "markdown",
      "metadata": {
        "id": "view-in-github",
        "colab_type": "text"
      },
      "source": [
        "<a href=\"https://colab.research.google.com/github/Samuelanders/iec2023_2_turmas_a_b/blob/main/Projeto_de_exemplo_de_IA.ipynb\" target=\"_parent\"><img src=\"https://colab.research.google.com/assets/colab-badge.svg\" alt=\"Open In Colab\"/></a>"
      ]
    },
    {
      "cell_type": "code",
      "execution_count": 10,
      "metadata": {
        "id": "KVsil1Astc3v",
        "colab": {
          "base_uri": "https://localhost:8080/",
          "height": 140
        },
        "outputId": "89b46752-8c7a-4bb1-81e4-c2bd76e2b5ed"
      },
      "outputs": [
        {
          "output_type": "error",
          "ename": "SyntaxError",
          "evalue": "invalid syntax (<ipython-input-10-2e38b1f3d035>, line 1)",
          "traceback": [
            "\u001b[0;36m  File \u001b[0;32m\"<ipython-input-10-2e38b1f3d035>\"\u001b[0;36m, line \u001b[0;32m1\u001b[0m\n\u001b[0;31m    Projeto Ponta a Ponta - Construindo um Modelo com TensorFlow\u001b[0m\n\u001b[0m            ^\u001b[0m\n\u001b[0;31mSyntaxError\u001b[0m\u001b[0;31m:\u001b[0m invalid syntax\n"
          ]
        }
      ],
      "source": [
        "Projeto Ponta a Ponta - Construindo um Modelo com TensorFlow\n",
        "Construir um modelo de Inteligência Artificial capaz de classificar imagens considerando 10 categorias: ['airplane', 'automobile', 'bird', 'cat', 'deer', 'dog', 'frog', 'horse', 'ship', 'truck']. Dada uma nova imagem de uma dessas categorias o modelo deve ser capaz de classificar e indicar o que é a imagem. Lembrando: uma imagem é uma matriz de pixels!\n",
        "\n",
        "https://codeshare.io/\n",
        "Conheça o TensorFlow! -> https://www.tensorflow.org/\n",
        "\n",
        "# Imports\n",
        "import tensorflow as tf\n",
        "from tensorflow.keras import datasets, layers, models\n",
        "import matplotlib.pyplot as plt\n",
        "import numpy as np\n",
        "from PIL import Image\n",
        "\n",
        "# Carrega o dataset CIFAR-10 - Já está no Keras!\n",
        "(imagens_treino, labels_treino), (imagens_teste, labels_teste) = datasets.cifar10.load_data()\n",
        "# Executa a função\n",
        "visualiza_imagens(imagens_treino, labels_treino)\n",
        "\n",
        "# Executa a funçãohttps://codeshare.io/\n",
        "visualiza_imagens(imagens_treino, labels_treino)\n",
        "\n",
        "\n",
        "\n",
        "# Função para exibir as imagens\n",
        "def visualiza_imagens(images, labels):\n",
        "    plt.figure(figsize = (10,10))\n",
        "    for i in range(25):\n",
        "        plt.subplot(5, 5, i+1)\n",
        "        plt.xticks([])\n",
        "        plt.yticks([])\n",
        "        plt.grid(False)\n",
        "        plt.imshow(images[i], cmap = plt.cm.binary)\n",
        "        plt.xlabel(nomes_classes[labels[i][0]])\n",
        "    plt.show()\n",
        "\n",
        "%%time\n",
        "history = modelo_lia.fit(imagens_treino,\n",
        "                         labels_treino,\n",
        "                         epochs = 10,\n",
        "                         validation_data = (imagens_teste, labels_teste))\n"
      ]
    },
    {
      "cell_type": "code",
      "source": [
        "\n",
        "# Função para exibir as imagens\n",
        "def visualiza_imagens(images, labels):\n",
        "    plt.figure(figsize = (10,10))\n",
        "    for i in range(25):\n",
        "        plt.subplot(5, 5, i+1)\n",
        "        plt.xticks([])\n",
        "        plt.yticks([])\n",
        "        plt.grid(False)\n",
        "        plt.imshow(images[i], cmap = plt.cm.binary)\n",
        "        plt.xlabel(nomes_classes[labels[i][0]])\n",
        "    plt.show()\n",
        "\n",
        "%%time\n",
        "history = modelo_lia.fit(imagens_treino,\n",
        "                         labels_treino,\n",
        "                         epochs = 10,\n",
        "                         validation_data = (imagens_teste, labels_teste))\n"
      ],
      "metadata": {
        "id": "HmSZ_lST6R2F"
      },
      "execution_count": null,
      "outputs": []
    },
    {
      "cell_type": "code",
      "source": [
        "<a href=\"http://www.cs.toronto.edu/~jasper/\">Jasper Snoek</a>"
      ],
      "metadata": {
        "colab": {
          "base_uri": "https://localhost:8080/",
          "height": 140
        },
        "id": "lskNreM37KFT",
        "outputId": "92a6f4e9-594c-4a19-bb8a-77660d417556"
      },
      "execution_count": 22,
      "outputs": [
        {
          "output_type": "error",
          "ename": "SyntaxError",
          "evalue": "invalid syntax (<ipython-input-22-fc9fc6599c51>, line 1)",
          "traceback": [
            "\u001b[0;36m  File \u001b[0;32m\"<ipython-input-22-fc9fc6599c51>\"\u001b[0;36m, line \u001b[0;32m1\u001b[0m\n\u001b[0;31m    <a href=\"http://www.cs.toronto.edu/~jasper/\">Jasper Snoek</a>\u001b[0m\n\u001b[0m    ^\u001b[0m\n\u001b[0;31mSyntaxError\u001b[0m\u001b[0;31m:\u001b[0m invalid syntax\n"
          ]
        }
      ]
    },
    {
      "cell_type": "code",
      "source": [
        "\n",
        "# Função para exibir as imagens\n",
        "def visualiza_imagens(images, labels):\n",
        "    plt.figure(figsize = (10,10))\n",
        "    for i in range(25):\n",
        "        plt.subplot(5, 5, i+1)\n",
        "        plt.xticks([])\n",
        "        plt.yticks([])\n",
        "        plt.grid(False)\n",
        "        plt.imshow(images[i], cmap = plt.cm.binary)\n",
        "        plt.xlabel(nomes_classes[labels[i][0]])\n",
        "    plt.show()\n",
        "\n",
        "%%time\n",
        "history = modelo_lia.fit(imagens_treino,\n",
        "                         labels_treino,\n",
        "                         epochs = 10,\n",
        "                         validation_data = (imagens_teste, labels_teste))\n"
      ],
      "metadata": {
        "colab": {
          "base_uri": "https://localhost:8080/"
        },
        "id": "JwwdruJ14j0P",
        "outputId": "07f4c183-33db-442f-836d-b89b6cd04a17"
      },
      "execution_count": 21,
      "outputs": [
        {
          "output_type": "stream",
          "name": "stderr",
          "text": [
            "UsageError: Line magic function `%%time` not found.\n"
          ]
        }
      ]
    },
    {
      "cell_type": "code",
      "source": [
        "\n",
        "# Executa a funçãohttps://codeshare.io/\n",
        "visualiza_imagens(imagens_treino, labels_treino)"
      ],
      "metadata": {
        "colab": {
          "base_uri": "https://localhost:8080/",
          "height": 193
        },
        "id": "8XarjXF736gg",
        "outputId": "71fa0815-bcae-451b-81a4-c38859ecdedb"
      },
      "execution_count": 19,
      "outputs": [
        {
          "output_type": "error",
          "ename": "NameError",
          "evalue": "name 'imagens_treino' is not defined",
          "traceback": [
            "\u001b[0;31m---------------------------------------------------------------------------\u001b[0m",
            "\u001b[0;31mNameError\u001b[0m                                 Traceback (most recent call last)",
            "\u001b[0;32m<ipython-input-19-ad499469e44b>\u001b[0m in \u001b[0;36m<cell line: 2>\u001b[0;34m()\u001b[0m\n\u001b[1;32m      1\u001b[0m \u001b[0;31m# Executa a funçãohttps://codeshare.io/\u001b[0m\u001b[0;34m\u001b[0m\u001b[0;34m\u001b[0m\u001b[0m\n\u001b[0;32m----> 2\u001b[0;31m \u001b[0mvisualiza_imagens\u001b[0m\u001b[0;34m(\u001b[0m\u001b[0mimagens_treino\u001b[0m\u001b[0;34m,\u001b[0m \u001b[0mlabels_treino\u001b[0m\u001b[0;34m)\u001b[0m\u001b[0;34m\u001b[0m\u001b[0;34m\u001b[0m\u001b[0m\n\u001b[0m",
            "\u001b[0;31mNameError\u001b[0m: name 'imagens_treino' is not defined"
          ]
        }
      ]
    },
    {
      "cell_type": "code",
      "source": [
        "\n",
        "# Função para exibir as imagens\n",
        "def visualiza_imagens(images, labels):\n",
        "    plt.figure(figsize = (10,10))\n",
        "    for i in range(25):\n",
        "        plt.subplot(5, 5, i+1)\n",
        "        plt.xticks([])\n",
        "        plt.yticks([])\n",
        "        plt.grid(False)\n",
        "        plt.imshow(images[i], cmap = plt.cm.binary)\n",
        "        plt.xlabel(nomes_classes[labels[i][0]])\n",
        "    plt.show()\n"
      ],
      "metadata": {
        "id": "n2YoCkNo3oHX"
      },
      "execution_count": 16,
      "outputs": []
    },
    {
      "cell_type": "code",
      "source": [
        "\n",
        "%%time\n",
        "history = modelo_lia.fit(imagens_treino,\n",
        "                         labels_treino,\n",
        "                         epochs = 10,\n",
        "                         validation_data = (imagens_teste, labels_teste))-\n"
      ],
      "metadata": {
        "colab": {
          "base_uri": "https://localhost:8080/",
          "height": 592
        },
        "id": "cXxXahsb3ftI",
        "outputId": "2ddf8035-06ad-492c-83a6-f4f1cf106c7b"
      },
      "execution_count": 20,
      "outputs": [
        {
          "output_type": "error",
          "ename": "SyntaxError",
          "evalue": "invalid syntax (<unknown>, line 4)",
          "traceback": [
            "Traceback \u001b[0;36m(most recent call last)\u001b[0m:\n",
            "  File \u001b[1;32m\"/usr/local/lib/python3.10/dist-packages/IPython/core/interactiveshell.py\"\u001b[0m, line \u001b[1;32m3553\u001b[0m, in \u001b[1;35mrun_code\u001b[0m\n    exec(code_obj, self.user_global_ns, self.user_ns)\n",
            "  File \u001b[1;32m\"<ipython-input-20-78c955b7dad3>\"\u001b[0m, line \u001b[1;32m1\u001b[0m, in \u001b[1;35m<cell line: 1>\u001b[0m\n    get_ipython().run_cell_magic('time', '', 'history = modelo_lia.fit(imagens_treino, \\n                         labels_treino, \\n                         epochs = 10, \\n                         validation_data = (imagens_teste, labels_teste))-\\n')\n",
            "  File \u001b[1;32m\"/usr/local/lib/python3.10/dist-packages/google/colab/_shell.py\"\u001b[0m, line \u001b[1;32m334\u001b[0m, in \u001b[1;35mrun_cell_magic\u001b[0m\n    return super().run_cell_magic(magic_name, line, cell)\n",
            "  File \u001b[1;32m\"/usr/local/lib/python3.10/dist-packages/IPython/core/interactiveshell.py\"\u001b[0m, line \u001b[1;32m2473\u001b[0m, in \u001b[1;35mrun_cell_magic\u001b[0m\n    result = fn(*args, **kwargs)\n",
            "  File \u001b[1;32m\"<decorator-gen-54>\"\u001b[0m, line \u001b[1;32m2\u001b[0m, in \u001b[1;35mtime\u001b[0m\n",
            "  File \u001b[1;32m\"/usr/local/lib/python3.10/dist-packages/IPython/core/magic.py\"\u001b[0m, line \u001b[1;32m187\u001b[0m, in \u001b[1;35m<lambda>\u001b[0m\n    call = lambda f, *a, **k: f(*a, **k)\n",
            "  File \u001b[1;32m\"/usr/local/lib/python3.10/dist-packages/IPython/core/magics/execution.py\"\u001b[0m, line \u001b[1;32m1291\u001b[0m, in \u001b[1;35mtime\u001b[0m\n    expr_ast = self.shell.compile.ast_parse(expr)\n",
            "\u001b[0;36m  File \u001b[0;32m\"/usr/local/lib/python3.10/dist-packages/IPython/core/compilerop.py\"\u001b[0;36m, line \u001b[0;32m101\u001b[0;36m, in \u001b[0;35mast_parse\u001b[0;36m\u001b[0m\n\u001b[0;31m    return compile(source, filename, symbol, self.flags | PyCF_ONLY_AST, 1)\u001b[0m\n",
            "\u001b[0;36m  File \u001b[0;32m\"<unknown>\"\u001b[0;36m, line \u001b[0;32m4\u001b[0m\n\u001b[0;31m    validation_data = (imagens_teste, labels_teste))-\u001b[0m\n\u001b[0m                                                     ^\u001b[0m\n\u001b[0;31mSyntaxError\u001b[0m\u001b[0;31m:\u001b[0m invalid syntax\n"
          ]
        }
      ]
    }
  ]
}